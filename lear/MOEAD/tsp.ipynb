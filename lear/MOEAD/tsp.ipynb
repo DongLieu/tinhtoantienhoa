{
 "cells": [
  {
   "cell_type": "code",
   "execution_count": 361,
   "metadata": {},
   "outputs": [],
   "source": [
    "from enum import Enum\n",
    "import numpy as np\n",
    "import pandas as pd\n",
    "import matplotlib.pyplot as plt\n",
    "from itertools import combinations, permutations"
   ]
  },
  {
   "cell_type": "code",
   "execution_count": 362,
   "metadata": {},
   "outputs": [],
   "source": [
    "class MeaningIndex(Enum):\n",
    "    CITY1 = 0\n",
    "    CITY2 = 1\n",
    "    DISTANCE = 2\n",
    "    TRAFFIC_JAM = 3\n",
    "    RATE_HAVE_POLICE = 4\n",
    "\n",
    "\n",
    "NUMBER_CITY = 5\n",
    "NUMBER_POPULATION = 50\n",
    "NUMBER_SOLUTION = 50\n",
    "NUMBER_NEIGHBORHOOD = 5\n",
    "NUMBER_TARGET = len(MeaningIndex) - 2\n",
    "RATE_SELECT_MOM_ALLEN = 0.5\n",
    "RATE_MUTATION = 0.3"
   ]
  },
  {
   "cell_type": "code",
   "execution_count": 363,
   "metadata": {},
   "outputs": [
    {
     "data": {
      "text/plain": [
       "True"
      ]
     },
     "execution_count": 363,
     "metadata": {},
     "output_type": "execute_result"
    }
   ],
   "source": [
    "def isDominated(dominance, dominated):\n",
    "    if dominance == dominated:\n",
    "        return False\n",
    "    for i, value in enumerate(dominance):\n",
    "        if dominated[i] > value:\n",
    "            return False    \n",
    "    return True\n",
    "isDominated([1,2,3], [0,2.0,3])\n"
   ]
  },
  {
   "cell_type": "code",
   "execution_count": 364,
   "metadata": {},
   "outputs": [],
   "source": [
    "def existDominance(dominated, solutions):\n",
    "    for dominance in solutions:\n",
    "        if isDominated(dominance, dominated):\n",
    "            return True\n",
    "    return False"
   ]
  },
  {
   "cell_type": "code",
   "execution_count": 365,
   "metadata": {},
   "outputs": [
    {
     "data": {
      "image/png": "[encoded data removed]",
      "text/plain": [
       "<Figure size 640x480 with 1 Axes>"
      ]
     },
     "metadata": {},
     "output_type": "display_data"
    }
   ],
   "source": [
    "graph = pd.read_csv('./costEdges.csv').to_numpy()\n",
    "plt.plot(graph[:, 0], graph[:, 1], \"ro\")\n",
    "plt.xlabel('x')\n",
    "plt.ylabel('y')\n",
    "plt.show()"
   ]
  },
  {
   "cell_type": "code",
   "execution_count": 366,
   "metadata": {},
   "outputs": [],
   "source": [
    "def initialPopulation (size, numberCity):\n",
    "    population = np.array([np.random.permutation(numberCity) for i in range(size)])\n",
    "    return population"
   ]
  },
  {
   "cell_type": "code",
   "execution_count": 367,
   "metadata": {},
   "outputs": [],
   "source": [
    "def initReferencePoint(numberSolutions):\n",
    "    return np.zeros((numberSolutions,))+np.Infinity"
   ]
  },
  {
   "cell_type": "code",
   "execution_count": 368,
   "metadata": {},
   "outputs": [],
   "source": [
    "def initWeightVector(numberSolutions):\n",
    "    randomVectors = np.random.rand(numberSolutions, 3)\n",
    "    weightVectors=np.array([weightVector/weightVector.sum() for weightVector in randomVectors])\n",
    "    return weightVectors\n"
   ]
  },
  {
   "cell_type": "code",
   "execution_count": 369,
   "metadata": {},
   "outputs": [],
   "source": [
    "def generateNeighborhoods(weightVectors, numberNeighbor):\n",
    "    lenWeightVectors = len(weightVectors)\n",
    "    def eachElement(index):\n",
    "        neighborhood = []\n",
    "        neighborDistance = []\n",
    "        for i in range(lenWeightVectors):\n",
    "            if i == index:\n",
    "                continue\n",
    "            distance = np.linalg.norm(weightVectors[index]-weightVectors[i])\n",
    "            if len(neighborhood) < numberNeighbor:\n",
    "                neighborDistance.append(distance)\n",
    "                neighborhood.append(i)\n",
    "            else:\n",
    "                longestNeighbor = np.argmax(neighborDistance)\n",
    "                if (distance<neighborDistance[longestNeighbor]):\n",
    "                    del neighborDistance[longestNeighbor]\n",
    "                    del neighborhood[longestNeighbor]\n",
    "                    neighborDistance.append(distance)\n",
    "                    neighborhood.append(i)\n",
    "        return neighborhood\n",
    "    matrixNeighbor =[]\n",
    "    for i in range(lenWeightVectors):\n",
    "        matrixNeighbor.append(eachElement(i))\n",
    "    return np.array(matrixNeighbor)\n"
   ]
  },
  {
   "cell_type": "code",
   "execution_count": 370,
   "metadata": {},
   "outputs": [],
   "source": [
    "def crossover(dad, mom):\n",
    "    allenPicker = np.random.rand(NUMBER_CITY)\n",
    "    setCity = range(NUMBER_CITY)\n",
    "    child = np.copy(dad)\n",
    "    momAllen = np.where(allenPicker < RATE_SELECT_MOM_ALLEN)[0] \n",
    "    dadAllen = np.where(allenPicker >= RATE_SELECT_MOM_ALLEN)[0]\n",
    "    momAllenIndex, dadAllenIndex = [], []\n",
    "    for i in range(NUMBER_CITY):\n",
    "        if mom[i] in momAllen:\n",
    "            momAllenIndex.append(i)\n",
    "        if dad[i] in dadAllen:\n",
    "            dadAllenIndex.append(i)\n",
    "    child[momAllenIndex] = mom[momAllenIndex]\n",
    "    setExistIndex =  set(momAllenIndex+dadAllenIndex)\n",
    "    setEmptyIndex = set(setCity) -setExistIndex \n",
    "    missingIndex = list(setEmptyIndex)\n",
    "    missingCity = [x for x in (set(setCity) - set(child))]\n",
    "    np.random.shuffle(missingCity)\n",
    "    child[missingIndex] = missingCity\n",
    "    return child"
   ]
  },
  {
   "cell_type": "code",
   "execution_count": 371,
   "metadata": {},
   "outputs": [],
   "source": [
    "def mutation(child):\n",
    "    allenPicker = np.random.rand(NUMBER_CITY)\n",
    "    mutationIndex = np.where(allenPicker <= RATE_MUTATION)[0]\n",
    "    tmp = child[mutationIndex]\n",
    "    np.random.shuffle(tmp)\n",
    "    child[mutationIndex] = tmp\n",
    "    return child"
   ]
  },
  {
   "cell_type": "code",
   "execution_count": 372,
   "metadata": {},
   "outputs": [],
   "source": [
    "def cal(solution, matrixCost):\n",
    "    edges = matrixCost[:,:2]\n",
    "    cost =[0,0,0]\n",
    "    for i in range(NUMBER_CITY-1):\n",
    "        city1 = solution[i]\n",
    "        city2 = solution[i+1]\n",
    "        index = [index for index, edge in enumerate(edges) if list(edge)==[city1, city2] or list(edge)==[city2, city1]][0]\n",
    "        cost +=matrixCost[index, 2:5]\n",
    "    return cost"
   ]
  },
  {
   "cell_type": "code",
   "execution_count": 373,
   "metadata": {},
   "outputs": [],
   "source": [
    "def updateReferencePoint(child, matrixCost, reference):\n",
    "    FV = cal(child, matrixCost)\n",
    "    updatedIds = [i for i, value in enumerate(reference) if reference[i]>FV[i]]\n",
    "    reference[updatedIds] = FV[updatedIds]\n",
    "    return reference\n"
   ]
  },
  {
   "cell_type": "code",
   "execution_count": 374,
   "metadata": {},
   "outputs": [],
   "source": [
    "def updateNeighboringSolution(neighbor, neighborIndex, weightVectors, matrixCost, solution, reference, population):\n",
    "    costs = cal(solution, matrixCost)\n",
    "    def calOptimizeFunction(costs, weightVector):\n",
    "        vector = abs(costs - reference)\n",
    "        return max([weight*cost for weight, cost in zip(weightVector, vector)])\n",
    "    fitnessChild = calOptimizeFunction(costs, weightVectors[neighborIndex])\n",
    "    updatedNeighbor = []\n",
    "    for index in neighbor:\n",
    "        costs = cal(population[index], matrixCost)\n",
    "        fitness = calOptimizeFunction(costs, weightVectors[index])\n",
    "        if (fitnessChild< fitness):\n",
    "            population[index] = solution\n",
    "            updatedNeighbor.append(index)\n",
    "    return neighbor, updatedNeighbor"
   ]
  },
  {
   "cell_type": "code",
   "execution_count": 380,
   "metadata": {},
   "outputs": [
    {
     "ename": "ValueError",
     "evalue": "The truth value of an array with more than one element is ambiguous. Use a.any() or a.all()",
     "output_type": "error",
     "traceback": [
      "\u001b[0;31m---------------------------------------------------------------------------\u001b[0m",
      "\u001b[0;31mValueError\u001b[0m                                Traceback (most recent call last)",
      "Cell \u001b[0;32mIn[380], line 28\u001b[0m\n\u001b[1;32m     26\u001b[0m         pd\u001b[39m.\u001b[39mDataFrame(\u001b[39mself\u001b[39m\u001b[39m.\u001b[39mcostEdges)\u001b[39m.\u001b[39mto_csv(\u001b[39m'\u001b[39m\u001b[39m./costEdges.csv\u001b[39m\u001b[39m'\u001b[39m, index\u001b[39m=\u001b[39m\u001b[39mFalse\u001b[39;00m)\n\u001b[1;32m     27\u001b[0m prepareData \u001b[39m=\u001b[39m PrepareData(NUMBER_CITY)\n\u001b[0;32m---> 28\u001b[0m prepareData\u001b[39m.\u001b[39;49mparetoFront()\n",
      "Cell \u001b[0;32mIn[380], line 18\u001b[0m, in \u001b[0;36mPrepareData.paretoFront\u001b[0;34m(self)\u001b[0m\n\u001b[1;32m     16\u001b[0m \u001b[39mfor\u001b[39;00m solution \u001b[39min\u001b[39;00m \u001b[39mself\u001b[39m\u001b[39m.\u001b[39msolutions:\n\u001b[1;32m     17\u001b[0m     fv \u001b[39m=\u001b[39m cal(solution, \u001b[39mself\u001b[39m\u001b[39m.\u001b[39mcostEdges)\n\u001b[0;32m---> 18\u001b[0m     \u001b[39mif\u001b[39;00m \u001b[39mnot\u001b[39;00m existDominance(\u001b[39mlist\u001b[39;49m(fv), \u001b[39mself\u001b[39;49m\u001b[39m.\u001b[39;49mFV):\n\u001b[1;32m     19\u001b[0m         \u001b[39mself\u001b[39m\u001b[39m.\u001b[39mFV\u001b[39m.\u001b[39mappend(fv)\n\u001b[1;32m     20\u001b[0m         \u001b[39mself\u001b[39m\u001b[39m.\u001b[39msolutions\u001b[39m.\u001b[39mappend(solution)\n",
      "Cell \u001b[0;32mIn[364], line 3\u001b[0m, in \u001b[0;36mexistDominance\u001b[0;34m(dominated, solutions)\u001b[0m\n\u001b[1;32m      1\u001b[0m \u001b[39mdef\u001b[39;00m \u001b[39mexistDominance\u001b[39m(dominated, solutions):\n\u001b[1;32m      2\u001b[0m     \u001b[39mfor\u001b[39;00m dominance \u001b[39min\u001b[39;00m solutions:\n\u001b[0;32m----> 3\u001b[0m         \u001b[39mif\u001b[39;00m isDominated(dominance, dominated):\n\u001b[1;32m      4\u001b[0m             \u001b[39mreturn\u001b[39;00m \u001b[39mTrue\u001b[39;00m\n\u001b[1;32m      5\u001b[0m     \u001b[39mreturn\u001b[39;00m \u001b[39mFalse\u001b[39;00m\n",
      "Cell \u001b[0;32mIn[363], line 2\u001b[0m, in \u001b[0;36misDominated\u001b[0;34m(dominance, dominated)\u001b[0m\n\u001b[1;32m      1\u001b[0m \u001b[39mdef\u001b[39;00m \u001b[39misDominated\u001b[39m(dominance, dominated):\n\u001b[0;32m----> 2\u001b[0m     \u001b[39mif\u001b[39;00m dominance \u001b[39m==\u001b[39m dominated:\n\u001b[1;32m      3\u001b[0m         \u001b[39mreturn\u001b[39;00m \u001b[39mFalse\u001b[39;00m\n\u001b[1;32m      4\u001b[0m     \u001b[39mfor\u001b[39;00m i, value \u001b[39min\u001b[39;00m \u001b[39menumerate\u001b[39m(dominance):\n",
      "\u001b[0;31mValueError\u001b[0m: The truth value of an array with more than one element is ambiguous. Use a.any() or a.all()"
     ]
    }
   ],
   "source": [
    "class PrepareData:\n",
    "    def __init__(self, numberCity: int) -> None:\n",
    "        self.numberCity = numberCity\n",
    "        self.FV = []\n",
    "        self.startSolution = np.arange(numberCity)\n",
    "        self.solutions = [list(x) for x in permutations(self.startSolution)]\n",
    "        maxIndex = numberCity -1\n",
    "        edges = np.array([edge for edge in combinations(range(numberCity), 2)])\n",
    "        self.countEdges = len(edges)\n",
    "        costs = np.concatenate((\n",
    "            np.random.randint(100, size=(self.countEdges, 2)),\n",
    "            np.random.rand(self.countEdges, 1)), axis=1)\n",
    "\n",
    "        self.costEdges = np.concatenate((edges, costs), axis=1)\n",
    "    def paretoFront(self):\n",
    "        for solution in self.solutions:\n",
    "            fv = cal(solution, self.costEdges)\n",
    "            if not existDominance(fv, self.FV):\n",
    "                self.FV.append(fv)\n",
    "                self.solutions.append(solution)\n",
    "        print('number pareto: ', len(self.solutions))\n",
    "        pd.DataFrame(self.solutions).to_csv('./paretoSolution.csv', index=False)\n",
    "        pd.DataFrame(self.FV).to_csv('./paretoFront.csv', index=False)\n",
    "\n",
    "    def writeToCsv(self):\n",
    "        pd.DataFrame(self.costEdges).to_csv('./costEdges.csv', index=False)\n",
    "prepareData = PrepareData(NUMBER_CITY)\n",
    "prepareData.paretoFront()\n"
   ]
  },
  {
   "cell_type": "code",
   "execution_count": 376,
   "metadata": {},
   "outputs": [
    {
     "name": "stdout",
     "output_type": "stream",
     "text": [
      "[1 3 2 0 4]\n"
     ]
    },
    {
     "ename": "KeyboardInterrupt",
     "evalue": "",
     "output_type": "error",
     "traceback": [
      "\u001b[0;31m---------------------------------------------------------------------------\u001b[0m",
      "\u001b[0;31mKeyboardInterrupt\u001b[0m                         Traceback (most recent call last)",
      "Cell \u001b[0;32mIn[376], line 22\u001b[0m\n\u001b[1;32m     20\u001b[0m     FV \u001b[39m=\u001b[39m [cal(solution, edgeCost) \u001b[39mfor\u001b[39;00m solution \u001b[39min\u001b[39;00m population]\n\u001b[1;32m     21\u001b[0m     \u001b[39mreturn\u001b[39;00m \u001b[39mzip\u001b[39m(population, FV)\n\u001b[0;32m---> 22\u001b[0m rs \u001b[39m=\u001b[39m execute()\n\u001b[1;32m     23\u001b[0m \u001b[39mlist\u001b[39m(rs)\n",
      "Cell \u001b[0;32mIn[376], line 17\u001b[0m, in \u001b[0;36mexecute\u001b[0;34m()\u001b[0m\n\u001b[1;32m     15\u001b[0m     child \u001b[39m=\u001b[39m mutation(tempChild)\n\u001b[1;32m     16\u001b[0m     updateReferencePoint(child, edgeCost, referencePoints)\n\u001b[0;32m---> 17\u001b[0m     updateNeighboringSolution(\n\u001b[1;32m     18\u001b[0m         neighborhoods[childIndex], childIndex, weightVectors, edgeCost, child, referencePoints, population)\n\u001b[1;32m     20\u001b[0m FV \u001b[39m=\u001b[39m [cal(solution, edgeCost) \u001b[39mfor\u001b[39;00m solution \u001b[39min\u001b[39;00m population]\n\u001b[1;32m     21\u001b[0m \u001b[39mreturn\u001b[39;00m \u001b[39mzip\u001b[39m(population, FV)\n",
      "Cell \u001b[0;32mIn[374], line 9\u001b[0m, in \u001b[0;36mupdateNeighboringSolution\u001b[0;34m(neighbor, neighborIndex, weightVectors, matrixCost, solution, reference, population)\u001b[0m\n\u001b[1;32m      7\u001b[0m updatedNeighbor \u001b[39m=\u001b[39m []\n\u001b[1;32m      8\u001b[0m \u001b[39mfor\u001b[39;00m index \u001b[39min\u001b[39;00m neighbor:\n\u001b[0;32m----> 9\u001b[0m     costs \u001b[39m=\u001b[39m cal(population[index], matrixCost)\n\u001b[1;32m     10\u001b[0m     fitness \u001b[39m=\u001b[39m calOptimizeFunction(costs, weightVectors[index])\n\u001b[1;32m     11\u001b[0m     \u001b[39mif\u001b[39;00m (fitnessChild\u001b[39m<\u001b[39m fitness):\n",
      "Cell \u001b[0;32mIn[372], line 7\u001b[0m, in \u001b[0;36mcal\u001b[0;34m(solution, matrixCost)\u001b[0m\n\u001b[1;32m      5\u001b[0m     city1 \u001b[39m=\u001b[39m solution[i]\n\u001b[1;32m      6\u001b[0m     city2 \u001b[39m=\u001b[39m solution[i\u001b[39m+\u001b[39m\u001b[39m1\u001b[39m]\n\u001b[0;32m----> 7\u001b[0m     index \u001b[39m=\u001b[39m [index \u001b[39mfor\u001b[39;00m index, edge \u001b[39min\u001b[39;00m \u001b[39menumerate\u001b[39m(edges) \u001b[39mif\u001b[39;00m \u001b[39mlist\u001b[39m(edge)\u001b[39m==\u001b[39m[city1, city2] \u001b[39mor\u001b[39;00m \u001b[39mlist\u001b[39m(edge)\u001b[39m==\u001b[39m[city2, city1]][\u001b[39m0\u001b[39m]\n\u001b[1;32m      8\u001b[0m     cost \u001b[39m+\u001b[39m\u001b[39m=\u001b[39mmatrixCost[index, \u001b[39m2\u001b[39m:\u001b[39m5\u001b[39m]\n\u001b[1;32m      9\u001b[0m \u001b[39mreturn\u001b[39;00m cost\n",
      "Cell \u001b[0;32mIn[372], line 7\u001b[0m, in \u001b[0;36m<listcomp>\u001b[0;34m(.0)\u001b[0m\n\u001b[1;32m      5\u001b[0m     city1 \u001b[39m=\u001b[39m solution[i]\n\u001b[1;32m      6\u001b[0m     city2 \u001b[39m=\u001b[39m solution[i\u001b[39m+\u001b[39m\u001b[39m1\u001b[39m]\n\u001b[0;32m----> 7\u001b[0m     index \u001b[39m=\u001b[39m [index \u001b[39mfor\u001b[39;00m index, edge \u001b[39min\u001b[39;00m \u001b[39menumerate\u001b[39m(edges) \u001b[39mif\u001b[39;00m \u001b[39mlist\u001b[39m(edge)\u001b[39m==\u001b[39m[city1, city2] \u001b[39mor\u001b[39;00m \u001b[39mlist\u001b[39;49m(edge)\u001b[39m==\u001b[39m[city2, city1]][\u001b[39m0\u001b[39m]\n\u001b[1;32m      8\u001b[0m     cost \u001b[39m+\u001b[39m\u001b[39m=\u001b[39mmatrixCost[index, \u001b[39m2\u001b[39m:\u001b[39m5\u001b[39m]\n\u001b[1;32m      9\u001b[0m \u001b[39mreturn\u001b[39;00m cost\n",
      "\u001b[0;31mKeyboardInterrupt\u001b[0m: "
     ]
    }
   ],
   "source": [
    "def execute():\n",
    "    iter = 0\n",
    "    edgeCost = pd.read_csv('./costEdges.csv').to_numpy()\n",
    "    weightVectors = initWeightVector(NUMBER_SOLUTION)\n",
    "    population = initialPopulation(NUMBER_POPULATION, NUMBER_CITY)\n",
    "    print(population[1])\n",
    "    neighborhoods = generateNeighborhoods(weightVectors, NUMBER_NEIGHBORHOOD)\n",
    "    referencePoints = initReferencePoint(NUMBER_TARGET)\n",
    "    while iter < 1000:\n",
    "        iter += 1\n",
    "        childIndex = np.random.randint(NUMBER_CITY)\n",
    "        parentIndex = np.random.choice(neighborhoods[childIndex], 2)\n",
    "        parent = population[parentIndex]\n",
    "\n",
    "        tempChild = crossover(parent[0], parent[1])\n",
    "        child = mutation(tempChild)\n",
    "        \n",
    "        updateReferencePoint(child, edgeCost, referencePoints)\n",
    "        updateNeighboringSolution(\n",
    "            neighborhoods[childIndex], childIndex, weightVectors, edgeCost, child, referencePoints, population)\n",
    "    \n",
    "    FV = [cal(solution, edgeCost) for solution in population]\n",
    "    return zip(population, FV)\n",
    "rs = execute()\n",
    "list(rs)"
   ]
  }
 ],
 "metadata": {
  "kernelspec": {
   "display_name": "Python 3",
   "language": "python",
   "name": "python3"
  },
  "language_info": {
   "codemirror_mode": {
    "name": "ipython",
    "version": 3
   },
   "file_extension": ".py",
   "mimetype": "text/x-python",
   "name": "python",
   "nbconvert_exporter": "python",
   "pygments_lexer": "ipython3",
   "version": "3.10.6"
  },
  "orig_nbformat": 4
 },
 "nbformat": 4,
 "nbformat_minor": 2
}

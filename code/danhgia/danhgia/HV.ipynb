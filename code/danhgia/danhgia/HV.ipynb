{
  "nbformat": 4,
  "nbformat_minor": 0,
  "metadata": {
    "colab": {
      "provenance": []
    },
    "kernelspec": {
      "name": "python3",
      "display_name": "Python 3"
    },
    "language_info": {
      "name": "python"
    }
  },
  "cells": [
    {
      "cell_type": "code",
      "source": [
        "!pip install pygmo\n"
      ],
      "metadata": {
        "colab": {
          "base_uri": "https://localhost:8080/"
        },
        "id": "cAt4dUZW_MgW",
        "outputId": "6f6b333a-061b-4430-f366-ca70db912b62"
      },
      "execution_count": 2,
      "outputs": [
        {
          "output_type": "stream",
          "name": "stdout",
          "text": [
            "Collecting pygmo\n",
            "  Downloading pygmo-2.19.5-cp310-cp310-manylinux_2_28_x86_64.whl (14.7 MB)\n",
            "\u001b[2K     \u001b[90m━━━━━━━━━━━━━━━━━━━━━━━━━━━━━━━━━━━━━━━━\u001b[0m \u001b[32m14.7/14.7 MB\u001b[0m \u001b[31m23.5 MB/s\u001b[0m eta \u001b[36m0:00:00\u001b[0m\n",
            "\u001b[?25hRequirement already satisfied: numpy in /usr/local/lib/python3.10/dist-packages (from pygmo) (1.22.4)\n",
            "Requirement already satisfied: cloudpickle in /usr/local/lib/python3.10/dist-packages (from pygmo) (2.2.1)\n",
            "Requirement already satisfied: scipy in /usr/local/lib/python3.10/dist-packages (from pygmo) (1.10.1)\n",
            "Installing collected packages: pygmo\n",
            "Successfully installed pygmo-2.19.5\n"
          ]
        }
      ]
    },
    {
      "cell_type": "code",
      "execution_count": 10,
      "metadata": {
        "id": "AJxK_25Z-0Wb"
      },
      "outputs": [],
      "source": [
        "import pygmo as pg\n"
      ]
    },
    {
      "cell_type": "code",
      "source": [
        "pop = [[0.5, 0.5, 0.5], [0.75, 0, 0]]\n",
        "check = round(pg.hypervolume(pop).compute([1,1,1]) ,4 )\n",
        "\n",
        "print(check)"
      ],
      "metadata": {
        "colab": {
          "base_uri": "https://localhost:8080/"
        },
        "id": "QSls-o56_WwS",
        "outputId": "37167050-dadd-483b-dac8-2fa39686ae39"
      },
      "execution_count": 9,
      "outputs": [
        {
          "output_type": "stream",
          "name": "stdout",
          "text": [
            "0.3125\n"
          ]
        }
      ]
    },
    {
      "cell_type": "code",
      "source": [
        "from google.colab import drive\n",
        "import os\n",
        "\n",
        "drive.mount('/content/drive/')"
      ],
      "metadata": {
        "colab": {
          "base_uri": "https://localhost:8080/"
        },
        "id": "M-LUJ4Ic_tR8",
        "outputId": "eefeea7d-b294-4e78-fb03-574b58358834"
      },
      "execution_count": 11,
      "outputs": [
        {
          "output_type": "stream",
          "name": "stdout",
          "text": [
            "Mounted at /content/drive/\n"
          ]
        }
      ]
    },
    {
      "cell_type": "code",
      "source": [
        "def read_file(input):\n",
        "    with open(input, \"r\") as file:\n",
        "        content = file.read()\n",
        "    content = content.split(\"\\n\")\n",
        "    if content[-1] == \"\":content = content[:len(content)-1]\n",
        "\n",
        "    # print(content)\n",
        "    data = []\n",
        "    for i in range(len(content)):\n",
        "        tmp = content[i].split(\",\")\n",
        "        tmp2 = []\n",
        "        for j in tmp:\n",
        "            tmp2.append(float(j))\n",
        "\n",
        "        if tmp2 in data:continue\n",
        "        data.append(tmp2)\n",
        "    return data"
      ],
      "metadata": {
        "id": "wcux6iChDxgx"
      },
      "execution_count": 12,
      "outputs": []
    },
    {
      "cell_type": "code",
      "source": [
        "def HV(pareto):\n",
        "  return round(pg.hypervolume(pareto).compute([1,1,1]) ,4 )"
      ],
      "metadata": {
        "id": "oQUDFtqJEXeD"
      },
      "execution_count": 15,
      "outputs": []
    },
    {
      "cell_type": "code",
      "source": [
        "# https://drive.google.com/file/d/1v1lAGvTsNg0ChGtYTMdzGyZIPJb8u8-h/view?usp=drive_link\n",
        "\n",
        "output_f = \"/content/drive/MyDrive/pareto/\"\n",
        "\n",
        "vung = [\"cogent\", \"conus\", \"nsf\"]\n",
        "\n",
        "mien = [\"center\", \"rural\", \"uniform\", \"urban\"]\n",
        "\n",
        "id = [\"0\", \"1\", \"2\", \"3\", \"4\"]\n",
        "\n",
        "name_file10 = [\"request10_MOTLBO.txt\", \"request10_NSGA2.txt\", \"request10_MOEAD.txt\"]\n",
        "name_file20 = [\"request20_MOTLBO.txt\", \"request20_NSGA2.txt\", \"request20_MOEAD.txt\"]\n",
        "name_file30 = [\"request30_MOTLBO.txt\", \"request30_NSGA2.txt\", \"request30_MOEAD.txt\"]\n",
        "\n",
        "\n",
        "luulai = {}\n",
        "for vu in vung:\n",
        "    for mi in mien:\n",
        "        for i in id:\n",
        "            path_begin = output_f +\"/\"+ vu +\"_\"+ mi +\"_\"+ i +\"/\"\n",
        "\n",
        "            # request 10: motlbo;nsga2;moead\n",
        "            rq10 = []\n",
        "            for bo10 in name_file10:\n",
        "                input = path_begin+ bo10\n",
        "                rq10.append(read_file(input))\n",
        "            # request 20: motlbo;nsga2;moead\n",
        "            rq20 = []\n",
        "            for bo20 in name_file20:\n",
        "                input = path_begin+ bo20\n",
        "                rq20.append(read_file(input))\n",
        "            # request 30: motlbo;nsga2;moead\n",
        "            rq30 = []\n",
        "            for bo30 in name_file30:\n",
        "                input = path_begin+ bo30\n",
        "                rq30.append(read_file(input))\n",
        "\n",
        "            # tinhHV\n",
        "            motlbo10 = HV(rq10[0])\n",
        "            nsga210 = HV(rq10[1])\n",
        "            moead10 = HV(rq10[2])\n",
        "            # tinhHV\n",
        "            motlbo20 = HV(rq20[0])\n",
        "            nsga220 = HV(rq20[1])\n",
        "            moead20 = HV(rq20[2])\n",
        "            # tinhHV\n",
        "            motlbo30 = HV(rq30[0])\n",
        "            nsga230 = HV(rq30[1])\n",
        "            moead30 = HV(rq30[2])\n",
        "            name = vu +\"\\\\_\"+ mi +\"\\\\_\"+ i + \" request10:\"\n",
        "            luulai[name] = [motlbo10, nsga210, moead10]\n",
        "\n",
        "            name = vu +\"\\\\_\"+ mi +\"\\\\_\"+ i + \" request20:\"\n",
        "            luulai[name] = [motlbo20, nsga220, moead20]\n",
        "\n",
        "            name = vu +\"\\\\_\"+ mi +\"\\\\_\"+ i + \" request30:\"\n",
        "            luulai[name] = [motlbo30, nsga230, moead30]\n",
        "\n"
      ],
      "metadata": {
        "id": "karIv89jC3jC"
      },
      "execution_count": 23,
      "outputs": []
    },
    {
      "cell_type": "code",
      "source": [
        "\n",
        "def check_strings(s, a, b, c):\n",
        "    # Kiểm tra xem a và b đồng thời xuất hiện trong chuỗi s hay không\n",
        "    if a in s and b in s and c in s:\n",
        "        return True\n",
        "    else:\n",
        "        return False\n",
        "\n",
        "def check_s_x(s, x):\n",
        "  m = x.split(\"_\")\n",
        "  if check_strings(s, m[0], m[1], m[2]):\n",
        "    return True\n",
        "  return False\n",
        "# Chuỗi s\n",
        "s = \"cogent_center_0 request10:\"\n",
        "\n",
        "# Hai chuỗi cần kiểm tra\n",
        "x = \"cogent_center_request20:\"\n",
        "\n",
        "# Kiểm tra\n",
        "result = check_s_x(s, x)\n",
        "print(result)"
      ],
      "metadata": {
        "colab": {
          "base_uri": "https://localhost:8080/"
        },
        "id": "HfUvZ1tUHAm1",
        "outputId": "dadc4a5b-f99d-4734-90fe-1e7a6587f3b0"
      },
      "execution_count": 34,
      "outputs": [
        {
          "output_type": "stream",
          "name": "stdout",
          "text": [
            "False\n"
          ]
        }
      ]
    },
    {
      "cell_type": "code",
      "source": [
        "namedata =[\n",
        "            \"cogent_center_request10:\",\\\n",
        "           \"cogent_center_request20:\",\\\n",
        "           \"cogent_center_request30:\",\\\n",
        "           \"cogent_rural_request10\",\\\n",
        "           \"cogent_rural_request20\",\\\n",
        "           \"cogent_rural_request30\",\\\n",
        "           \"cogent_uniform_request10\",\\\n",
        "           \"cogent_uniform_request20\",\\\n",
        "           \"cogent_uniform_request30\",\\\n",
        "           \"cogent_urban_request10\",\\\n",
        "           \"cogent_urban_request20\",\\\n",
        "           \"cogent_urban_request30\",\\\n",
        "              \"conus_center_request10:\",\\\n",
        "           \"conus_center_request20:\",\\\n",
        "           \"conus_center_request30:\",\\\n",
        "           \"conus_rural_request10\",\\\n",
        "           \"conus_rural_request20\",\\\n",
        "           \"conus_rural_request30\",\\\n",
        "           \"conus_uniform_request10\",\\\n",
        "           \"conus_uniform_request20\",\\\n",
        "           \"conus_uniform_request30\",\\\n",
        "           \"conus_urban_request10\",\\\n",
        "           \"conus_urban_request20\",\\\n",
        "           \"conus_urban_request30\",\\\n",
        "            \"nsf_center_request10:\",\\\n",
        "           \"nsf_center_request20:\",\\\n",
        "           \"nsf_center_request30:\",\\\n",
        "           \"nsf_rural_request10\",\\\n",
        "           \"nsf_rural_request20\",\\\n",
        "           \"nsf_rural_request30\",\\\n",
        "           \"nsf_uniform_request10\",\\\n",
        "           \"nsf_uniform_request20\",\\\n",
        "           \"nsf_uniform_request30\",\\\n",
        "           \"nsf_urban_request10\",\\\n",
        "           \"nsf_urban_request20\",\\\n",
        "           \"nsf_urban_request30\",\\\n",
        "           ]\n",
        "# for i,j in luulai.items():\n",
        "kq = {}\n",
        "for x in namedata:\n",
        "  kq[x] = [0,0,0]\n",
        "print(kq)"
      ],
      "metadata": {
        "colab": {
          "base_uri": "https://localhost:8080/"
        },
        "id": "e6xJCTiOJyJ-",
        "outputId": "36896c25-1e08-44bd-d8b8-2df6bd2e4049"
      },
      "execution_count": 31,
      "outputs": [
        {
          "output_type": "stream",
          "name": "stdout",
          "text": [
            "{'cogent_center_request10:': [0, 0, 0], 'cogent_center_request20:': [0, 0, 0], 'cogent_center_request30:': [0, 0, 0], 'cogent_rural_request10': [0, 0, 0], 'cogent_rural_request20': [0, 0, 0], 'cogent_rural_request30': [0, 0, 0], 'cogent_uniform_request10': [0, 0, 0], 'cogent_uniform_request20': [0, 0, 0], 'cogent_uniform_request30': [0, 0, 0], 'cogent_urban_request10': [0, 0, 0], 'cogent_urban_request20': [0, 0, 0], 'cogent_urban_request30': [0, 0, 0], 'conus_center_request10:': [0, 0, 0], 'conus_center_request20:': [0, 0, 0], 'conus_center_request30:': [0, 0, 0], 'conus_rural_request10': [0, 0, 0], 'conus_rural_request20': [0, 0, 0], 'conus_rural_request30': [0, 0, 0], 'conus_uniform_request10': [0, 0, 0], 'conus_uniform_request20': [0, 0, 0], 'conus_uniform_request30': [0, 0, 0], 'conus_urban_request10': [0, 0, 0], 'conus_urban_request20': [0, 0, 0], 'conus_urban_request30': [0, 0, 0], 'nsf_center_request10:': [0, 0, 0], 'nsf_center_request20:': [0, 0, 0], 'nsf_center_request30:': [0, 0, 0], 'nsf_rural_request10': [0, 0, 0], 'nsf_rural_request20': [0, 0, 0], 'nsf_rural_request30': [0, 0, 0], 'nsf_uniform_request10': [0, 0, 0], 'nsf_uniform_request20': [0, 0, 0], 'nsf_uniform_request30': [0, 0, 0], 'nsf_urban_request10': [0, 0, 0], 'nsf_urban_request20': [0, 0, 0], 'nsf_urban_request30': [0, 0, 0]}\n"
          ]
        }
      ]
    },
    {
      "cell_type": "code",
      "source": [
        "\n",
        "def tinhtheoi(x):\n",
        "  for s,rq in luulai.items():\n",
        "    if check_s_x(s,x):\n",
        "      tmp = kq[x]\n",
        "      tmp = [tmp[0] + rq[0], tmp[1] + rq[1], tmp[2] + rq[2]]\n",
        "      kq[x] = tmp\n",
        "\n"
      ],
      "metadata": {
        "id": "a_eT2DwfPBSE"
      },
      "execution_count": 38,
      "outputs": []
    },
    {
      "cell_type": "code",
      "source": [
        "for x in namedata:\n",
        "  tinhtheoi(x)\n"
      ],
      "metadata": {
        "id": "ZNo7p1nhOpgj"
      },
      "execution_count": 39,
      "outputs": []
    },
    {
      "cell_type": "code",
      "source": [
        "for i,j in kq.items():\n",
        "  print(i ,\"   & \",\"{:.4f}\".format(j[0]/5),\" & \",\"{:.4f}\".format(j[1]/5),\"  &  \",\"{:.4f}\".format(j[2]/5),\" \\\\\\\\\")"
      ],
      "metadata": {
        "colab": {
          "base_uri": "https://localhost:8080/"
        },
        "id": "BBpMJZUSRBFH",
        "outputId": "d02a8036-ac41-4691-85fb-d5cab079c1d6"
      },
      "execution_count": 45,
      "outputs": [
        {
          "output_type": "stream",
          "name": "stdout",
          "text": [
            "cogent_center_request10:    &  0.2066  &  0.2136   &   0.2168  \\\\\n",
            "cogent_center_request20:    &  0.1553  &  0.1525   &   0.1612  \\\\\n",
            "cogent_center_request30:    &  0.1353  &  0.1426   &   0.1503  \\\\\n",
            "cogent_rural_request10    &  0.5124  &  0.5209   &   0.6036  \\\\\n",
            "cogent_rural_request20    &  0.5087  &  0.5109   &   0.5585  \\\\\n",
            "cogent_rural_request30    &  0.4865  &  0.5227   &   0.5444  \\\\\n",
            "cogent_uniform_request10    &  0.5250  &  0.5046   &   0.5881  \\\\\n",
            "cogent_uniform_request20    &  0.4912  &  0.4915   &   0.5789  \\\\\n",
            "cogent_uniform_request30    &  0.4925  &  0.4907   &   0.5357  \\\\\n",
            "cogent_urban_request10    &  0.5030  &  0.5342   &   0.5516  \\\\\n",
            "cogent_urban_request20    &  0.4967  &  0.5181   &   0.5463  \\\\\n",
            "cogent_urban_request30    &  0.4836  &  0.4966   &   0.5280  \\\\\n",
            "conus_center_request10:    &  0.3216  &  0.3293   &   0.3896  \\\\\n",
            "conus_center_request20:    &  0.3117  &  0.3462   &   0.3507  \\\\\n",
            "conus_center_request30:    &  0.3212  &  0.3250   &   0.3504  \\\\\n",
            "conus_rural_request10    &  0.5198  &  0.5025   &   0.5539  \\\\\n",
            "conus_rural_request20    &  0.5002  &  0.5079   &   0.5202  \\\\\n",
            "conus_rural_request30    &  0.4786  &  0.4909   &   0.5261  \\\\\n",
            "conus_uniform_request10    &  0.5131  &  0.5138   &   0.5385  \\\\\n",
            "conus_uniform_request20    &  0.4822  &  0.4800   &   0.4981  \\\\\n",
            "conus_uniform_request30    &  0.4937  &  0.4800   &   0.5118  \\\\\n",
            "conus_urban_request10    &  0.5084  &  0.5233   &   0.5590  \\\\\n",
            "conus_urban_request20    &  0.4631  &  0.4691   &   0.5108  \\\\\n",
            "conus_urban_request30    &  0.4622  &  0.4886   &   0.5213  \\\\\n",
            "nsf_center_request10:    &  0.0625  &  0.0625   &   0.0625  \\\\\n",
            "nsf_center_request20:    &  0.0000  &  0.0000   &   0.0000  \\\\\n",
            "nsf_center_request30:    &  0.0000  &  0.0000   &   0.0000  \\\\\n",
            "nsf_rural_request10    &  0.2572  &  0.2589   &   0.2594  \\\\\n",
            "nsf_rural_request20    &  0.2562  &  0.2583   &   0.2592  \\\\\n",
            "nsf_rural_request30    &  0.2544  &  0.2549   &   0.2569  \\\\\n",
            "nsf_uniform_request10    &  0.3711  &  0.3719   &   0.3761  \\\\\n",
            "nsf_uniform_request20    &  0.3745  &  0.3719   &   0.3762  \\\\\n",
            "nsf_uniform_request30    &  0.3710  &  0.3717   &   0.3737  \\\\\n",
            "nsf_urban_request10    &  0.3412  &  0.3422   &   0.3429  \\\\\n",
            "nsf_urban_request20    &  0.3369  &  0.3378   &   0.3370  \\\\\n",
            "nsf_urban_request30    &  0.3333  &  0.3348   &   0.3340  \\\\\n"
          ]
        }
      ]
    },
    {
      "cell_type": "code",
      "source": [],
      "metadata": {
        "id": "TpegGHlASUJ0"
      },
      "execution_count": null,
      "outputs": []
    }
  ]
}
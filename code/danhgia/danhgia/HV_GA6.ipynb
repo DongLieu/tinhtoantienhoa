{
  "nbformat": 4,
  "nbformat_minor": 0,
  "metadata": {
    "colab": {
      "provenance": []
    },
    "kernelspec": {
      "name": "python3",
      "display_name": "Python 3"
    },
    "language_info": {
      "name": "python"
    }
  },
  "cells": [
    {
      "cell_type": "code",
      "execution_count": 1,
      "metadata": {
        "colab": {
          "base_uri": "https://localhost:8080/"
        },
        "id": "srJJtoQp4XvH",
        "outputId": "7fa4dec0-eaf9-471b-eab5-0fc179b7864d"
      },
      "outputs": [
        {
          "output_type": "stream",
          "name": "stdout",
          "text": [
            "Collecting pygmo\n",
            "  Downloading pygmo-2.19.5-cp310-cp310-manylinux_2_28_x86_64.whl (14.7 MB)\n",
            "\u001b[2K     \u001b[90m━━━━━━━━━━━━━━━━━━━━━━━━━━━━━━━━━━━━━━━━\u001b[0m \u001b[32m14.7/14.7 MB\u001b[0m \u001b[31m35.2 MB/s\u001b[0m eta \u001b[36m0:00:00\u001b[0m\n",
            "\u001b[?25hRequirement already satisfied: numpy in /usr/local/lib/python3.10/dist-packages (from pygmo) (1.22.4)\n",
            "Requirement already satisfied: cloudpickle in /usr/local/lib/python3.10/dist-packages (from pygmo) (2.2.1)\n",
            "Requirement already satisfied: scipy in /usr/local/lib/python3.10/dist-packages (from pygmo) (1.10.1)\n",
            "Installing collected packages: pygmo\n",
            "Successfully installed pygmo-2.19.5\n"
          ]
        }
      ],
      "source": [
        "!pip install pygmo\n"
      ]
    },
    {
      "cell_type": "code",
      "source": [
        "import pygmo as pg\n",
        "from google.colab import drive\n",
        "import os\n",
        "\n",
        "drive.mount('/content/drive/')"
      ],
      "metadata": {
        "colab": {
          "base_uri": "https://localhost:8080/"
        },
        "id": "jBG5ET7v4qPB",
        "outputId": "1bf3629e-9064-4bbe-ef37-1940e67788a2"
      },
      "execution_count": 2,
      "outputs": [
        {
          "output_type": "stream",
          "name": "stdout",
          "text": [
            "Mounted at /content/drive/\n"
          ]
        }
      ]
    },
    {
      "cell_type": "code",
      "source": [
        "def read_file(input):\n",
        "    with open(input, \"r\") as file:\n",
        "        content = file.read()\n",
        "    content = content.split(\"\\n\")\n",
        "    if content[-1] == \"\":content = content[:len(content)-1]\n",
        "\n",
        "    # print(content)\n",
        "    data = []\n",
        "    for i in range(len(content)):\n",
        "        tmp = content[i].split(\",\")\n",
        "        tmp2 = []\n",
        "        for j in tmp:\n",
        "            tmp2.append(float(j))\n",
        "\n",
        "        if tmp2 in data:continue\n",
        "        data.append(tmp2)\n",
        "    return data\n",
        "\n",
        "def HV(pareto):\n",
        "  return round(pg.hypervolume(pareto).compute([1,1,1]) ,4 )"
      ],
      "metadata": {
        "id": "_1qp2Tm_4sb4"
      },
      "execution_count": 3,
      "outputs": []
    },
    {
      "cell_type": "code",
      "source": [
        "a = [\n",
        "    [0.0842759236038312, 0.894651562153778, 0.16199464040967454],\n",
        "    [0.12447148545862119, 0.5017449590073122, 0.08987201080100646],\n",
        "    [0.13907344952238626, 0.6277836250830933, 0.06907461831670679],\n",
        "    [0.09892011375340333, 0.5593701528916464, 0.10012069306458102],\n",
        "    [0.1185029200256294, 0.4540217150454243, 0.08865144252078035],\n",
        "    [0.11323934663393839, 0.48239807223576336, 0.07636393391202362],\n",
        "]\n",
        "print(HV(a))"
      ],
      "metadata": {
        "colab": {
          "base_uri": "https://localhost:8080/"
        },
        "id": "5UuLstOg-aUn",
        "outputId": "2e9b31da-3474-4111-a4cf-331e73e1f400"
      },
      "execution_count": 11,
      "outputs": [
        {
          "output_type": "stream",
          "name": "stdout",
          "text": [
            "0.456\n"
          ]
        }
      ]
    },
    {
      "cell_type": "code",
      "source": [
        "b = [\n",
        "    [0.1126748022258655, 0.5787308885442056, 0.11226500651197044],\n",
        "    [0.09267248897072998, 0.6888294925769998, 0.1002707070431563],\n",
        "    [0.13986656556884963, 0.5852260137380899, 0.11808827640757434],\n",
        "    [0.1391579016940004, 0.5947263461112342, 0.08027793498939674],\n",
        "    [0.12444761854055632, 0.5035591624196765, 0.08567843821810668],\n",
        "    [0.0972925735330566, 0.48479392865056503, 0.09440652424430458],\n",
        "    [0.12062799369178996, 0.5207733215156215, 0.10790778231607945],\n",
        "    [0.09801867861726092, 0.561128960779969, 0.10550073984166707],\n",
        "    [0.10044851446794215, 0.6711167737646798, 0.1101579919947086],\n",
        "    [0.09615981288336237, 0.561128960779969, 0.10509161080918904],\n",
        "    [0.08919250872519446, 0.7651645247064037, 0.1194452210319598],\n",
        "    [0.11121065859842441, 0.5449119211167738, 0.11080577962946547],\n",
        "]\n",
        "print(HV(b))"
      ],
      "metadata": {
        "colab": {
          "base_uri": "https://localhost:8080/"
        },
        "id": "tAaupRvG_DgZ",
        "outputId": "eda748b3-05eb-49b5-dd27-57f460235a6d"
      },
      "execution_count": 12,
      "outputs": [
        {
          "output_type": "stream",
          "name": "stdout",
          "text": [
            "0.429\n"
          ]
        }
      ]
    },
    {
      "cell_type": "code",
      "source": [
        "output_f = \"/content/drive/MyDrive/pareto/\"\n",
        "\n",
        "vung = [\"cogent\", \"conus\", \"nsf\"]\n",
        "\n",
        "mien = [\"center\", \"rural\", \"uniform\", \"urban\"]\n",
        "\n",
        "ids = [\"0\", \"1\", \"2\", \"3\", \"4\"]\n",
        "\n",
        "# C:\\Users\\DongTramCam\\Desktop\\tinhtoantienhoa\\code\\output\\cogent_center_0\\\n",
        "name_file10 = [\"request10_Ga1.txt\", \"request10_Ga2.txt\", \"request10_Ga3.txt\", \"request10_Ga4.txt\", \"request10_Ga5.txt\", \"request10_Ga6.txt\"]\n",
        "name_file20 = [\"request20_Ga1.txt\", \"request20_Ga2.txt\", \"request20_Ga3.txt\", \"request20_Ga4.txt\", \"request20_Ga5.txt\", \"request20_Ga6.txt\"]\n",
        "name_file30 = [\"request30_Ga1.txt\", \"request30_Ga2.txt\", \"request30_Ga3.txt\", \"request30_Ga4.txt\", \"request30_Ga5.txt\", \"request30_Ga6.txt\"]\n",
        "\n",
        "luulai = {}\n",
        "for vu in vung:\n",
        "    for mi in mien:\n",
        "        for id in ids:\n",
        "            path_begin = output_f +\"/\"+ vu +\"_\"+ mi +\"_\"+ id +\"/\"\n",
        "            print(path_begin)\n",
        "\n",
        "            # request 10: motlbo;nsga2;moead\n",
        "            rq10 = []\n",
        "            for bo10 in name_file10:\n",
        "                input = path_begin+ bo10\n",
        "                rq10.append(read_file(input))\n",
        "            # request 20: motlbo;nsga2;moead\n",
        "            rq20 = []\n",
        "            for bo20 in name_file20:\n",
        "                input = path_begin+ bo20\n",
        "                rq20.append(read_file(input))\n",
        "            # request 30: motlbo;nsga2;moead\n",
        "            rq30 = []\n",
        "            for bo30 in name_file30:\n",
        "                input = path_begin+ bo30\n",
        "                rq30.append(read_file(input))\n",
        "\n",
        "            ga6_10 = []\n",
        "            for i in rq10:\n",
        "                if i[0] in ga6_10:continue\n",
        "                ga6_10.append(i[0])\n",
        "\n",
        "            ga6_20 = []\n",
        "            for i in rq20:\n",
        "                if i[0] in ga6_20:continue\n",
        "                ga6_20.append(i[0])\n",
        "\n",
        "            ga6_30 = []\n",
        "            for i in rq30:\n",
        "                if i[0] in ga6_30:continue\n",
        "                ga6_30.append(i[0])\n",
        "\n",
        "            # tinh HV\n",
        "            ga6_rq10 = HV(ga6_10)\n",
        "            # tinh HV\n",
        "            ga6_rq20 = HV(ga6_20)\n",
        "            # tinh HV\n",
        "            ga6_rq30 = HV(ga6_30)\n",
        "\n",
        "            name = vu +\"\\\\_\"+ mi +\"\\\\_\"+ id + \" request10:\"\n",
        "            luulai[name] = ga6_rq10\n",
        "\n",
        "\n",
        "            name = vu +\"\\\\_\"+ mi +\"\\\\_\"+ id + \" request20:\"\n",
        "            luulai[name] = ga6_rq20\n",
        "\n",
        "            name = vu +\"\\\\_\"+ mi +\"\\\\_\"+ id + \" request30:\"\n",
        "            luulai[name] = ga6_rq30\n",
        "\n"
      ],
      "metadata": {
        "colab": {
          "base_uri": "https://localhost:8080/"
        },
        "id": "2CqxaFo147zO",
        "outputId": "d337d628-b53e-4662-aab2-555a9f21c03d"
      },
      "execution_count": 8,
      "outputs": [
        {
          "output_type": "stream",
          "name": "stdout",
          "text": [
            "/content/drive/MyDrive/pareto//cogent_center_0/\n",
            "/content/drive/MyDrive/pareto//cogent_center_1/\n",
            "/content/drive/MyDrive/pareto//cogent_center_2/\n",
            "/content/drive/MyDrive/pareto//cogent_center_3/\n",
            "/content/drive/MyDrive/pareto//cogent_center_4/\n",
            "/content/drive/MyDrive/pareto//cogent_rural_0/\n",
            "/content/drive/MyDrive/pareto//cogent_rural_1/\n",
            "/content/drive/MyDrive/pareto//cogent_rural_2/\n",
            "/content/drive/MyDrive/pareto//cogent_rural_3/\n",
            "/content/drive/MyDrive/pareto//cogent_rural_4/\n",
            "/content/drive/MyDrive/pareto//cogent_uniform_0/\n",
            "/content/drive/MyDrive/pareto//cogent_uniform_1/\n",
            "/content/drive/MyDrive/pareto//cogent_uniform_2/\n",
            "/content/drive/MyDrive/pareto//cogent_uniform_3/\n",
            "/content/drive/MyDrive/pareto//cogent_uniform_4/\n",
            "/content/drive/MyDrive/pareto//cogent_urban_0/\n",
            "/content/drive/MyDrive/pareto//cogent_urban_1/\n",
            "/content/drive/MyDrive/pareto//cogent_urban_2/\n",
            "/content/drive/MyDrive/pareto//cogent_urban_3/\n",
            "/content/drive/MyDrive/pareto//cogent_urban_4/\n",
            "/content/drive/MyDrive/pareto//conus_center_0/\n",
            "/content/drive/MyDrive/pareto//conus_center_1/\n",
            "/content/drive/MyDrive/pareto//conus_center_2/\n",
            "/content/drive/MyDrive/pareto//conus_center_3/\n",
            "/content/drive/MyDrive/pareto//conus_center_4/\n",
            "/content/drive/MyDrive/pareto//conus_rural_0/\n",
            "/content/drive/MyDrive/pareto//conus_rural_1/\n",
            "/content/drive/MyDrive/pareto//conus_rural_2/\n",
            "/content/drive/MyDrive/pareto//conus_rural_3/\n",
            "/content/drive/MyDrive/pareto//conus_rural_4/\n",
            "/content/drive/MyDrive/pareto//conus_uniform_0/\n",
            "/content/drive/MyDrive/pareto//conus_uniform_1/\n",
            "/content/drive/MyDrive/pareto//conus_uniform_2/\n",
            "/content/drive/MyDrive/pareto//conus_uniform_3/\n",
            "/content/drive/MyDrive/pareto//conus_uniform_4/\n",
            "/content/drive/MyDrive/pareto//conus_urban_0/\n",
            "/content/drive/MyDrive/pareto//conus_urban_1/\n",
            "/content/drive/MyDrive/pareto//conus_urban_2/\n",
            "/content/drive/MyDrive/pareto//conus_urban_3/\n",
            "/content/drive/MyDrive/pareto//conus_urban_4/\n",
            "/content/drive/MyDrive/pareto//nsf_center_0/\n",
            "/content/drive/MyDrive/pareto//nsf_center_1/\n",
            "/content/drive/MyDrive/pareto//nsf_center_2/\n",
            "/content/drive/MyDrive/pareto//nsf_center_3/\n",
            "/content/drive/MyDrive/pareto//nsf_center_4/\n",
            "/content/drive/MyDrive/pareto//nsf_rural_0/\n",
            "/content/drive/MyDrive/pareto//nsf_rural_1/\n",
            "/content/drive/MyDrive/pareto//nsf_rural_2/\n",
            "/content/drive/MyDrive/pareto//nsf_rural_3/\n",
            "/content/drive/MyDrive/pareto//nsf_rural_4/\n",
            "/content/drive/MyDrive/pareto//nsf_uniform_0/\n",
            "/content/drive/MyDrive/pareto//nsf_uniform_1/\n",
            "/content/drive/MyDrive/pareto//nsf_uniform_2/\n",
            "/content/drive/MyDrive/pareto//nsf_uniform_3/\n",
            "/content/drive/MyDrive/pareto//nsf_uniform_4/\n",
            "/content/drive/MyDrive/pareto//nsf_urban_0/\n",
            "/content/drive/MyDrive/pareto//nsf_urban_1/\n",
            "/content/drive/MyDrive/pareto//nsf_urban_2/\n",
            "/content/drive/MyDrive/pareto//nsf_urban_3/\n",
            "/content/drive/MyDrive/pareto//nsf_urban_4/\n"
          ]
        }
      ]
    },
    {
      "cell_type": "code",
      "source": [
        "luulai['cogent\\\\_center\\\\_0 request10:']"
      ],
      "metadata": {
        "colab": {
          "base_uri": "https://localhost:8080/"
        },
        "id": "rNe8CX0e-BQA",
        "outputId": "2ea32839-8ca6-417e-b5c5-b0da15fb9b15"
      },
      "execution_count": 9,
      "outputs": [
        {
          "output_type": "execute_result",
          "data": {
            "text/plain": [
              "0.456"
            ]
          },
          "metadata": {},
          "execution_count": 9
        }
      ]
    },
    {
      "cell_type": "code",
      "source": [
        "luulai['cogent\\\\_center\\\\_1 request10:']"
      ],
      "metadata": {
        "colab": {
          "base_uri": "https://localhost:8080/"
        },
        "id": "htNdOUZU-O23",
        "outputId": "7c8a5d94-cfb2-4385-f46e-c67e84fcc3ac"
      },
      "execution_count": 10,
      "outputs": [
        {
          "output_type": "execute_result",
          "data": {
            "text/plain": [
              "0.4876"
            ]
          },
          "metadata": {},
          "execution_count": 10
        }
      ]
    },
    {
      "cell_type": "code",
      "source": [
        "\n",
        "def check_strings(s, a, b, c):\n",
        "    # Kiểm tra xem a và b đồng thời xuất hiện trong chuỗi s hay không\n",
        "    if a in s and b in s and c in s:\n",
        "        return True\n",
        "    else:\n",
        "        return False\n",
        "\n",
        "def check_s_x(s, x):\n",
        "  m = x.split(\"_\")\n",
        "  if check_strings(s, m[0], m[1], m[2]):\n",
        "    return True\n",
        "  return False\n",
        "# Chuỗi s\n",
        "s = \"cogent_center_0 request10:\"\n",
        "\n",
        "# Hai chuỗi cần kiểm tra\n",
        "x = \"cogent_center_request20:\"\n",
        "\n",
        "# Kiểm tra\n",
        "result = check_s_x(s, x)\n",
        "print(result)"
      ],
      "metadata": {
        "colab": {
          "base_uri": "https://localhost:8080/"
        },
        "id": "sNMPzJ7G4vEh",
        "outputId": "343bd62b-a04a-4e16-c552-6394256380e8"
      },
      "execution_count": 15,
      "outputs": [
        {
          "output_type": "stream",
          "name": "stdout",
          "text": [
            "False\n"
          ]
        }
      ]
    },
    {
      "cell_type": "code",
      "source": [
        "namedata =[\n",
        "            \"cogent_center_request10:\",\\\n",
        "           \"cogent_center_request20:\",\\\n",
        "           \"cogent_center_request30:\",\\\n",
        "           \"cogent_rural_request10\",\\\n",
        "           \"cogent_rural_request20\",\\\n",
        "           \"cogent_rural_request30\",\\\n",
        "           \"cogent_uniform_request10\",\\\n",
        "           \"cogent_uniform_request20\",\\\n",
        "           \"cogent_uniform_request30\",\\\n",
        "           \"cogent_urban_request10\",\\\n",
        "           \"cogent_urban_request20\",\\\n",
        "           \"cogent_urban_request30\",\\\n",
        "              \"conus_center_request10:\",\\\n",
        "           \"conus_center_request20:\",\\\n",
        "           \"conus_center_request30:\",\\\n",
        "           \"conus_rural_request10\",\\\n",
        "           \"conus_rural_request20\",\\\n",
        "           \"conus_rural_request30\",\\\n",
        "           \"conus_uniform_request10\",\\\n",
        "           \"conus_uniform_request20\",\\\n",
        "           \"conus_uniform_request30\",\\\n",
        "           \"conus_urban_request10\",\\\n",
        "           \"conus_urban_request20\",\\\n",
        "           \"conus_urban_request30\",\\\n",
        "            \"nsf_center_request10:\",\\\n",
        "           \"nsf_center_request20:\",\\\n",
        "           \"nsf_center_request30:\",\\\n",
        "           \"nsf_rural_request10\",\\\n",
        "           \"nsf_rural_request20\",\\\n",
        "           \"nsf_rural_request30\",\\\n",
        "           \"nsf_uniform_request10\",\\\n",
        "           \"nsf_uniform_request20\",\\\n",
        "           \"nsf_uniform_request30\",\\\n",
        "           \"nsf_urban_request10\",\\\n",
        "           \"nsf_urban_request20\",\\\n",
        "           \"nsf_urban_request30\",\\\n",
        "           ]\n",
        "# for i,j in luulai.items():\n",
        "kq = {}\n",
        "for x in namedata:\n",
        "  kq[x] = 0\n",
        "print(kq)"
      ],
      "metadata": {
        "colab": {
          "base_uri": "https://localhost:8080/"
        },
        "id": "LcPF8wXo49_I",
        "outputId": "f2504d4e-a9e7-400b-8d67-d846ef5cdec8"
      },
      "execution_count": 17,
      "outputs": [
        {
          "output_type": "stream",
          "name": "stdout",
          "text": [
            "{'cogent_center_request10:': 0, 'cogent_center_request20:': 0, 'cogent_center_request30:': 0, 'cogent_rural_request10': 0, 'cogent_rural_request20': 0, 'cogent_rural_request30': 0, 'cogent_uniform_request10': 0, 'cogent_uniform_request20': 0, 'cogent_uniform_request30': 0, 'cogent_urban_request10': 0, 'cogent_urban_request20': 0, 'cogent_urban_request30': 0, 'conus_center_request10:': 0, 'conus_center_request20:': 0, 'conus_center_request30:': 0, 'conus_rural_request10': 0, 'conus_rural_request20': 0, 'conus_rural_request30': 0, 'conus_uniform_request10': 0, 'conus_uniform_request20': 0, 'conus_uniform_request30': 0, 'conus_urban_request10': 0, 'conus_urban_request20': 0, 'conus_urban_request30': 0, 'nsf_center_request10:': 0, 'nsf_center_request20:': 0, 'nsf_center_request30:': 0, 'nsf_rural_request10': 0, 'nsf_rural_request20': 0, 'nsf_rural_request30': 0, 'nsf_uniform_request10': 0, 'nsf_uniform_request20': 0, 'nsf_uniform_request30': 0, 'nsf_urban_request10': 0, 'nsf_urban_request20': 0, 'nsf_urban_request30': 0}\n"
          ]
        }
      ]
    },
    {
      "cell_type": "code",
      "source": [
        "def tinhtheoi(x):\n",
        "  for s,rq in luulai.items():\n",
        "    if check_s_x(s,x):\n",
        "      tmp = kq[x]\n",
        "      tmp = tmp + rq\n",
        "      kq[x] = tmp\n"
      ],
      "metadata": {
        "id": "2N5ou_BaAE4t"
      },
      "execution_count": 18,
      "outputs": []
    },
    {
      "cell_type": "code",
      "source": [
        "for x in namedata:\n",
        "  tinhtheoi(x)"
      ],
      "metadata": {
        "id": "tJnNiKY4AI-L"
      },
      "execution_count": 19,
      "outputs": []
    },
    {
      "cell_type": "code",
      "source": [
        "for i,j in kq.items():\n",
        "  print(i ,\"   & \",\"{:.4f}\".format(j/5))"
      ],
      "metadata": {
        "colab": {
          "base_uri": "https://localhost:8080/"
        },
        "id": "wof3EIn2AQHK",
        "outputId": "cfec39b5-d4d1-4928-beae-9ede94580452"
      },
      "execution_count": 20,
      "outputs": [
        {
          "output_type": "stream",
          "name": "stdout",
          "text": [
            "cogent_center_request10:    &  0.2322\n",
            "cogent_center_request20:    &  0.1897\n",
            "cogent_center_request30:    &  0.1485\n",
            "cogent_rural_request10    &  0.5849\n",
            "cogent_rural_request20    &  0.5840\n",
            "cogent_rural_request30    &  0.5712\n",
            "cogent_uniform_request10    &  0.6195\n",
            "cogent_uniform_request20    &  0.6157\n",
            "cogent_uniform_request30    &  0.5934\n",
            "cogent_urban_request10    &  0.5966\n",
            "cogent_urban_request20    &  0.5903\n",
            "cogent_urban_request30    &  0.5632\n",
            "conus_center_request10:    &  0.3951\n",
            "conus_center_request20:    &  0.3505\n",
            "conus_center_request30:    &  0.3610\n",
            "conus_rural_request10    &  0.5358\n",
            "conus_rural_request20    &  0.5255\n",
            "conus_rural_request30    &  0.5279\n",
            "conus_uniform_request10    &  0.5650\n",
            "conus_uniform_request20    &  0.5122\n",
            "conus_uniform_request30    &  0.5187\n",
            "conus_urban_request10    &  0.5444\n",
            "conus_urban_request20    &  0.5201\n",
            "conus_urban_request30    &  0.5138\n",
            "nsf_center_request10:    &  0.0563\n",
            "nsf_center_request20:    &  0.0000\n",
            "nsf_center_request30:    &  0.0000\n",
            "nsf_rural_request10    &  0.2526\n",
            "nsf_rural_request20    &  0.2518\n",
            "nsf_rural_request30    &  0.2478\n",
            "nsf_uniform_request10    &  0.3652\n",
            "nsf_uniform_request20    &  0.3566\n",
            "nsf_uniform_request30    &  0.3576\n",
            "nsf_urban_request10    &  0.3377\n",
            "nsf_urban_request20    &  0.3278\n",
            "nsf_urban_request30    &  0.3256\n"
          ]
        }
      ]
    },
    {
      "cell_type": "code",
      "source": [],
      "metadata": {
        "id": "gvjpXQ_MA8hx"
      },
      "execution_count": null,
      "outputs": []
    }
  ]
}